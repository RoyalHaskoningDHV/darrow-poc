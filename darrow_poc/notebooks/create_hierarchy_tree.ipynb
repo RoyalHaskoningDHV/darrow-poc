{
 "cells": [
  {
   "cell_type": "code",
   "execution_count": null,
   "metadata": {
    "collapsed": false
   },
   "outputs": [],
   "source": [
    "%load_ext autoreload\n",
    "%autoreload 2"
   ]
  },
  {
   "cell_type": "code",
   "execution_count": null,
   "metadata": {
    "collapsed": false
   },
   "outputs": [],
   "source": [
    "import pickle"
   ]
  },
  {
   "cell_type": "code",
   "execution_count": null,
   "metadata": {
    "collapsed": false
   },
   "outputs": [],
   "source": [
    "import pandas as pd\n",
    "\n",
    "data = pd.read_csv(\"../../tests/testing_data/train.csv\")"
   ]
  },
  {
   "cell_type": "code",
   "execution_count": null,
   "metadata": {
    "collapsed": false
   },
   "outputs": [],
   "source": [
    "data.columns"
   ]
  },
  {
   "cell_type": "code",
   "execution_count": null,
   "metadata": {
    "collapsed": false
   },
   "outputs": [],
   "source": [
    "from twinn_ml_interface.objectmodels import (\n",
    "    Node,\n",
    "    Unit,\n",
    ")"
   ]
  },
  {
   "cell_type": "code",
   "execution_count": null,
   "metadata": {
    "collapsed": true
   },
   "outputs": [],
   "source": [
    "type_dict = {\n",
    "    'altenburg1': 'discharge', \n",
    "    'eschweiler': 'discharge',\n",
    "    'herzogenrath1': 'discharge',\n",
    "    'juelich': 'discharge',\n",
    "    'stah': 'discharge',\n",
    "    'middenroer': 'precipitation',\n",
    "    'urft': 'precipitation',\n",
    "    'evap': 'evaporation',\n",
    "}\n",
    "\n",
    "discharge_stations = [\n",
    "    'altenburg1', 'eschweiler', 'herzogenrath1', 'juelich', 'stah',\n",
    "]\n",
    "\n",
    "precip_areas = [\n",
    "    'middenroer', 'urft',\n",
    "]"
   ]
  },
  {
   "cell_type": "code",
   "execution_count": null,
   "metadata": {
    "collapsed": false
   },
   "outputs": [],
   "source": [
    "tenant_node = None\n",
    "\n",
    "child_tenant_node = Node(\n",
    "    val=Unit(\n",
    "        unit_code=\"RUHR\",\n",
    "        unit_type_code=\"RIVER\",\n",
    "        active=True,\n",
    "        geometry=None,\n",
    "    ),\n",
    "    parent=tenant_node,\n",
    "    children=None,\n",
    ")\n",
    "\n",
    "tenant_node = Node(\n",
    "    val=Unit(\n",
    "        unit_code=\"WL\",\n",
    "        unit_type_code=\"TENANT\",\n",
    "        active=True,\n",
    "    ),\n",
    "    parent=None,\n",
    "    children=[child_tenant_node],\n",
    ")\n",
    "\n",
    "child_tenant_node.parent = tenant_node\n",
    "\n",
    "tenant_node"
   ]
  },
  {
   "cell_type": "code",
   "execution_count": null,
   "metadata": {
    "collapsed": false
   },
   "outputs": [],
   "source": [
    "child_tenant_node.children = [\n",
    "    Node(\n",
    "        val=Unit(\n",
    "            unit_code=unit_code.upper(),\n",
    "            unit_type_code=\"DISCHARGE_STATION\",\n",
    "            active=True,\n",
    "            geometry=None,\n",
    "        ),\n",
    "        parent=child_tenant_node,\n",
    "        children=None,\n",
    "    )\n",
    "    for unit_code in discharge_stations\n",
    "]"
   ]
  },
  {
   "cell_type": "code",
   "execution_count": null,
   "metadata": {
    "collapsed": false
   },
   "outputs": [],
   "source": [
    "child_tenant_node.children += [\n",
    "    Node(\n",
    "        val=Unit(\n",
    "            unit_code=unit_code.upper(),\n",
    "            unit_type_code=\"PRECIPITATION_AREA\",\n",
    "            active=True,\n",
    "            geometry=None,\n",
    "        ),\n",
    "        parent=child_tenant_node,\n",
    "        children=None,\n",
    "    )\n",
    "    for unit_code in precip_areas\n",
    "]"
   ]
  },
  {
   "cell_type": "code",
   "execution_count": null,
   "metadata": {
    "collapsed": false
   },
   "outputs": [],
   "source": [
    "child_tenant_node.children += [\n",
    "    Node(\n",
    "        val=Unit(\n",
    "            unit_code=\"EVAP\",\n",
    "            unit_type_code=\"EVAPORATION_STATION\",\n",
    "            active=True,\n",
    "            geometry=None,\n",
    "        ),\n",
    "        parent=child_tenant_node,\n",
    "        children=None,\n",
    "    )\n",
    "]"
   ]
  },
  {
   "cell_type": "code",
   "execution_count": null,
   "metadata": {
    "collapsed": false
   },
   "outputs": [],
   "source": [
    "tenant_node.children[0].parent == tenant_node"
   ]
  },
  {
   "cell_type": "code",
   "execution_count": null,
   "metadata": {
    "collapsed": false
   },
   "outputs": [],
   "source": [
    "tenant_node"
   ]
  },
  {
   "cell_type": "code",
   "execution_count": null,
   "metadata": {
    "collapsed": true
   },
   "outputs": [],
   "source": [
    "hierarchy = {\n",
    "    '17def674-2d70-4a5f-ad9e-e2eeffe27944': tenant_node\n",
    "}"
   ]
  },
  {
   "cell_type": "code",
   "execution_count": null,
   "metadata": {
    "collapsed": false,
    "scrolled": true
   },
   "outputs": [],
   "source": [
    "hierarchy"
   ]
  },
  {
   "cell_type": "code",
   "execution_count": null,
   "metadata": {
    "collapsed": true
   },
   "outputs": [],
   "source": [
    "with open(\"/mnt/c/tmp_data/darrow/hierarchy.pkl\", \"wb\") as f:\n",
    "    pickle.dump(hierarchy, f)"
   ]
  },
  {
   "cell_type": "code",
   "execution_count": null,
   "metadata": {
    "collapsed": false
   },
   "outputs": [],
   "source": [
    "with open(\"/mnt/c/tmp_data/darrow/hierarchy.pkl\", \"rb\") as f:\n",
    "    test = pickle.load(f)\n",
    "    \n",
    "test"
   ]
  },
  {
   "cell_type": "markdown",
   "metadata": {
    "collapsed": true
   },
   "source": [
    "## Can we get the hierarchy from the API?"
   ]
  },
  {
   "cell_type": "code",
   "execution_count": null,
   "metadata": {
    "collapsed": false
   },
   "outputs": [],
   "source": [
    "import logging\n",
    "import pickle\n",
    "from abc import ABC, abstractmethod\n",
    "from typing import Any\n",
    "\n",
    "from azure.storage.blob import BlobClient\n",
    "from twinn_ml_interface.objectmodels import Node, RelativeType\n",
    "\n",
    "\n",
    "class Hierarchy:\n",
    "    root: Node\n",
    "\n",
    "    def __init__(self, root: Node) -> None:\n",
    "        \"\"\"A graph that tracks the relations between different units.\"\"\"\n",
    "        self.root = root\n",
    "\n",
    "    def get_nodes(self, relatives: list[RelativeType], node: Node) -> list[Node] | None:\n",
    "        \"\"\"Get a list of nodes from a hierarchy tree.\n",
    "\n",
    "        Args:\n",
    "            relatives (list[RelativeType]): a list of relatives to get.\n",
    "            node (Node): the node of the hierarchy tree.\n",
    "\n",
    "        Returns:\n",
    "            list[Node], optional: the list of nodes with units.\n",
    "        \"\"\"\n",
    "        relative: RelativeType = relatives.pop(0)\n",
    "        relative_nodes = self.get_next_level(node, relative)\n",
    "        if not relatives or relative_nodes is None:\n",
    "            return relative_nodes\n",
    "        next_nodes = []\n",
    "        for unit in relative_nodes:\n",
    "            next_nodes = next_nodes + self.get_nodes(relatives.copy(), unit)\n",
    "        return next_nodes\n",
    "\n",
    "    def get_next_level(self, node: Node, relative_type: RelativeType) -> list[Node]:\n",
    "        \"\"\"Get a relative of the given node.\n",
    "\n",
    "        Args:\n",
    "            node (Node): the node.\n",
    "            relative_type (RelativeType): where to go from the node.\n",
    "\n",
    "        Returns:\n",
    "            list[Node]: the resulting nodes.\n",
    "        \"\"\"\n",
    "        match relative_type:\n",
    "            case RelativeType.PARENT:\n",
    "                if node.parent is None:\n",
    "                    raise HierarchyError(BadHierarchyRequestErrorMsg())\n",
    "                return [node.parent]\n",
    "            case RelativeType.CHILDREN:\n",
    "                if node.children is None:\n",
    "                    return []\n",
    "                return node.children\n",
    "            case RelativeType.SELF:\n",
    "                if node is None:\n",
    "                    return []\n",
    "                return [node]\n",
    "        return None\n",
    "\n",
    "    def find_node_in_tree(self, unit_name: str) -> Node:\n",
    "        \"\"\"Retrieve a node from a hierarchy tree.\n",
    "\n",
    "        Args:\n",
    "            unit_name (str): the unit to search for.\n",
    "\n",
    "        Returns:\n",
    "            Node: the node matching the unit.\n",
    "        \"\"\"\n",
    "        to_visit = [self.root]\n",
    "        while to_visit:\n",
    "            current = to_visit.pop(0)\n",
    "            if current.val.unit_code == unit_name:\n",
    "                return current\n",
    "            if current.children:\n",
    "                to_visit += current.children\n",
    "        raise HierarchyError(TargetNotInHierarchyErrorMsg(unit_name))\n",
    "\n",
    "    def get_all_units_for_node(self, root: Node, *, only_leaf_nodes: bool = True) -> list[Node]:\n",
    "        \"\"\"Gets a list of all child units (optionally: leaf nodes only) for a given node.\n",
    "\n",
    "        Args:\n",
    "            root (Node): The node for which you want to retrieve the children.\n",
    "\n",
    "        Kwargs:\n",
    "            only_leaf_nodes (bool): Whether to retrieve leaf nodes, or all nodes. Defaults to True.\n",
    "\n",
    "        Returns:\n",
    "            list[Node]: The list of child nodes of the root Node.\n",
    "        \"\"\"\n",
    "        root_children = []\n",
    "        if root.children is None:\n",
    "            root_children.append(root)\n",
    "            return root_children\n",
    "        if not only_leaf_nodes:\n",
    "            root_children.append(root)\n",
    "        for child in root.children:\n",
    "            root_children += self.get_all_units_for_node(child, only_leaf_nodes=only_leaf_nodes)\n",
    "        return root_children\n",
    "\n",
    "    def get_all_units(self, *, only_leaf_nodes: bool = True) -> list[Node]:\n",
    "        \"\"\"Gets a list of all child units (Leaf nodes only) for the hierarchy.\n",
    "\n",
    "        Kwargs:\n",
    "            only_leaf_nodes (bool): Whether to retrieve leaf nodes, or all nodes. Defaults to True.\n",
    "\n",
    "        Returns:\n",
    "            list[Node]: The list of child nodes of the root Node.\n",
    "        \"\"\"\n",
    "        return self.get_all_units_for_node(self.root, only_leaf_nodes=only_leaf_nodes)\n",
    "\n",
    "    def get_prefix(self, node: Node) -> str:\n",
    "        \"\"\"Get prefix of a node.\n",
    "\n",
    "        Args:\n",
    "            node (Node): Node to get prefix for\n",
    "\n",
    "        Returns:\n",
    "            str: Prefix of the node\n",
    "        \"\"\"\n",
    "        prefix_list = []\n",
    "        current_node = node\n",
    "        while current_node != self.root:\n",
    "            if current_node.children:\n",
    "                prefix_list.append(current_node.val.unit_code)\n",
    "            current_node = current_node.parent\n",
    "        root_code = self.root.val.unit_code\n",
    "        return \"/\".join([root_code] + prefix_list[::-1])\n",
    "\n",
    "    def find_lowest_common_ancestor(self, current: Node, units: list[str]) -> Node | None:\n",
    "        \"\"\"Finds the lowest common ancestor for a given node.\"\"\"\n",
    "        if current.val.unit_code in units:\n",
    "            return current\n",
    "        if not current.children:\n",
    "            return None\n",
    "        results = list(filter(None, [self.find_lowest_common_ancestor(child, units) for child in current.children]))\n",
    "        if len(results) == 1:\n",
    "            return results[0]\n",
    "        if len(results) > 1:\n",
    "            return current\n",
    "        return None"
   ]
  },
  {
   "cell_type": "code",
   "execution_count": null,
   "metadata": {
    "collapsed": false
   },
   "outputs": [],
   "source": [
    "import math\n",
    "\n",
    "from twinn_ml_interface.objectmodels import (\n",
    "    DataLabelConfigTemplate,\n",
    "    DataLevel,\n",
    "    Node,\n",
    "    RelativeType,\n",
    "    Unit,\n",
    "    UnitTag,\n",
    "    UnitTagTemplate,\n",
    ")\n",
    "\n",
    "\n",
    "def get_unit_tags_from_data_template(\n",
    "    data_config_template: DataLabelConfigTemplate,\n",
    "    node: Node,\n",
    "    hierarchy: Hierarchy,\n",
    "    *,\n",
    "    fallback: bool = False,\n",
    ") -> list[UnitTag]:\n",
    "    \"\"\"Get the unit_codes and tag_names from config templates.\n",
    "\n",
    "    Args:\n",
    "        data_config_template (DataLabelConfigTemplate): _description_\n",
    "        node (Node): _description_\n",
    "        hierarchy (Hierarchy): _description_\n",
    "\n",
    "    Kwargs:\n",
    "        fallback (bool, optional): _description_. Defaults to False.\n",
    "\n",
    "    Returns:\n",
    "        list[UnitTag]: _description_\n",
    "    \"\"\"\n",
    "    priority_unit_tags = []\n",
    "    for unit_tag_template in data_config_template.unit_tag_templates:\n",
    "        if fallback:\n",
    "            unit_tag_template.relative_path = _make_fallback(unit_tag_template.relative_path)\n",
    "        priority_unit_tags += get_unit_tags_from_template(\n",
    "            unit_tag_template,\n",
    "            node,\n",
    "            hierarchy,\n",
    "        )\n",
    "    return priority_unit_tags\n",
    "\n",
    "\n",
    "def get_unit_tags_from_template(\n",
    "    unit_tag_template: UnitTagTemplate,\n",
    "    node: Node,\n",
    "    hierarchy: Hierarchy,\n",
    ") -> list[UnitTag]:\n",
    "    \"\"\"Convert a UnitTagTemplate to a list of UnitTags.\n",
    "\n",
    "    Args:\n",
    "        unit_tag_template (UnitTagTemplate): the template to convert.\n",
    "        node (Node): the node to search relatives from.\n",
    "        hierarchy (Hierarchy): the hierarchy.\n",
    "\n",
    "    Returns:\n",
    "        list[UnitTag]: the resulting UnitTags it got as relatives.\n",
    "    \"\"\"\n",
    "    unit_tags = []\n",
    "    for unit in get_units_from_hierarchy(unit_tag_template.relative_path, node, hierarchy):\n",
    "        unit_tags += [UnitTag(unit, tag) for tag in unit_tag_template.tags]\n",
    "    return unit_tags\n",
    "\n",
    "\n",
    "def get_units_from_hierarchy(relatives: list[RelativeType], node: Node, hierarchy: Hierarchy) -> list[Unit]:\n",
    "    \"\"\"Get units from the hierarchy tree for a list of relatives.\n",
    "\n",
    "    Args:\n",
    "        relatives (list[RelativeType]): the relatives path.\n",
    "        node (Node): the node in the hierarchy used as target.\n",
    "        hierarchy (Hierarchy): a unit hierarchy.\n",
    "\n",
    "    Returns:\n",
    "        list[Unit]: a list of units.\n",
    "    \"\"\"\n",
    "    resulting_nodes: list[Node] = []\n",
    "\n",
    "    nodes = hierarchy.get_nodes(relatives.copy(), node)\n",
    "    if nodes and None not in nodes:\n",
    "        resulting_nodes = nodes\n",
    "    return [node.val for node in resulting_nodes]\n"
   ]
  },
  {
   "cell_type": "code",
   "execution_count": null,
   "metadata": {
    "collapsed": true
   },
   "outputs": [],
   "source": [
    "def get_unit_tags_from_data_templates(\n",
    "    data_config_templates: list[DataLabelConfigTemplate],\n",
    "    node: Node,\n",
    "    hierarchy: Hierarchy,\n",
    ") -> tuple[dict[DataLevel, list[UnitTag]], dict[DataLevel, list[UnitTag]]]:\n",
    "    \"\"\"Convert DataLabelConfigTemplates to lists of UnitTags using the hierarchy.\n",
    "\n",
    "    Args:\n",
    "        data_config_templates (list[DataLabelConfigTemplate]): a list of config templates to convert.\n",
    "        node (Node): the node in the hierarchy the model is created for.\n",
    "        hierarchy (Hierarchy): a unit hierarchy.\n",
    "\n",
    "    Returns:\n",
    "        dict[DataLevel, list[UnitTag]]: all the unit gotten from the template.\n",
    "        dict[DataLevel, list[UnitTag]]: the unit retrieved without using fallbacks.\n",
    "    \"\"\"\n",
    "    priority_unit_tags_dict = {}\n",
    "    all_unit_tags_dict = {}\n",
    "    ## TODO (Miguel): continue here: Discuss if UnitTag is a real alternative to DataLabelConfigTemplate!\n",
    "    for data_config_template in data_config_templates:\n",
    "        priority_unit_tags, all_unit_tags = _get_unit_tags_from_data_template(\n",
    "            data_config_template,\n",
    "            node,\n",
    "            hierarchy,\n",
    "        )\n",
    "        all_unit_tags_dict[data_config_template.data_level] = all_unit_tags\n",
    "        priority_unit_tags_dict[data_config_template.data_level] = priority_unit_tags\n",
    "    return all_unit_tags_dict, priority_unit_tags_dict\n",
    "\n",
    "def _get_unit_tags_from_data_template(\n",
    "    data_config_template: DataLabelConfigTemplate,\n",
    "    node: Node,\n",
    "    hierarchy: Hierarchy,\n",
    ") -> tuple[list[UnitTag], list[UnitTag]]:\n",
    "    desired_number = data_config_template.desired_tag_number\n",
    "    priority_unit_tags = get_unit_tags_from_data_template(data_config_template, node, hierarchy)\n",
    "    if not desired_number or desired_number == len(priority_unit_tags):\n",
    "        return priority_unit_tags, priority_unit_tags\n",
    "    if len(priority_unit_tags) > desired_number:  # too many tags\n",
    "        filtered_priority_unit_tags = _select_units_by_distance(node.val, priority_unit_tags, desired_number)\n",
    "        return filtered_priority_unit_tags, filtered_priority_unit_tags\n",
    "    # get fallback units\n",
    "    fallback_units = get_unit_tags_from_data_template(\n",
    "        data_config_template,\n",
    "        node,\n",
    "        hierarchy,\n",
    "        fallback=True,\n",
    "    )\n",
    "    diff_unit_tags = set(fallback_units) - set(priority_unit_tags)\n",
    "    filtered_fallback_unit_tags = _select_units_by_distance(\n",
    "        node.val,\n",
    "        list(diff_unit_tags),\n",
    "        data_config_template.desired_tag_number - len(priority_unit_tags),\n",
    "    )\n",
    "    return priority_unit_tags, priority_unit_tags + filtered_fallback_unit_tags\n"
   ]
  },
  {
   "cell_type": "code",
   "execution_count": null,
   "metadata": {
    "collapsed": true
   },
   "outputs": [],
   "source": [
    "from twinn_ml_interface.objectmodels import (\n",
    "    AvailabilityLevel,\n",
    "    Configuration,\n",
    "    DataLabelConfigTemplate,\n",
    "    DataLevel,\n",
    "    MetaDataLogger,\n",
    "    ModelCategory,\n",
    "    RelativeType,\n",
    "    Tag,\n",
    "    UnitTagTemplate,\n",
    "    UnitTag,\n",
    "    Unit,\n",
    "    WindowViability,\n",
    ")"
   ]
  },
  {
   "cell_type": "code",
   "execution_count": null,
   "metadata": {
    "collapsed": false
   },
   "outputs": [],
   "source": [
    "with open(\"/mnt/c/tmp_data/darrow/hierarchy.pkl\", \"rb\") as f:\n",
    "    hierarchy_dict = pickle.load(f)\n",
    "    \n",
    "hierarchy_dict"
   ]
  },
  {
   "cell_type": "code",
   "execution_count": null,
   "metadata": {
    "collapsed": false
   },
   "outputs": [],
   "source": [
    "hierarchy = Hierarchy(hierarchy_dict['17def674-2d70-4a5f-ad9e-e2eeffe27944'])"
   ]
  },
  {
   "cell_type": "code",
   "execution_count": null,
   "metadata": {
    "collapsed": false
   },
   "outputs": [],
   "source": [
    "data_config_templates = [\n",
    "    DataLabelConfigTemplate(\n",
    "        data_level=DataLevel.SENSOR,\n",
    "        unit_tag_templates=[UnitTagTemplate([RelativeType.PARENT, RelativeType.CHILDREN], [Tag(\"DISCHARGE\")])],\n",
    "        availability_level=AvailabilityLevel.FILTER_UNTIL_NOW,\n",
    "    ),\n",
    "    DataLabelConfigTemplate(\n",
    "        data_level=DataLevel.WEATHER,\n",
    "        unit_tag_templates=[\n",
    "            UnitTagTemplate([RelativeType.PARENT, RelativeType.CHILDREN], [Tag(\"PRECIPITATION\"), Tag(\"EVAPORATION\")])\n",
    "        ],\n",
    "        availability_level=AvailabilityLevel.FILTER_UNTIL_NOW,\n",
    "    ),\n",
    "]\n",
    "\n",
    "\n",
    "node = hierarchy.find_node_in_tree(\"STAH\")\n",
    "    \n",
    "\n",
    "all_unit_tags_dict, priority_unit_tags_dict = get_unit_tags_from_data_templates(data_config_templates, node, hierarchy)"
   ]
  },
  {
   "cell_type": "code",
   "execution_count": null,
   "metadata": {
    "collapsed": false
   },
   "outputs": [],
   "source": [
    "priority_unit_tags_dict"
   ]
  },
  {
   "cell_type": "code",
   "execution_count": null,
   "metadata": {
    "collapsed": false
   },
   "outputs": [],
   "source": [
    "all_unit_tags_dict.values()"
   ]
  },
  {
   "cell_type": "code",
   "execution_count": null,
   "metadata": {
    "collapsed": true
   },
   "outputs": [],
   "source": []
  }
 ],
 "metadata": {
  "kernelspec": {
   "display_name": "Python (darrowpoc)",
   "language": "python",
   "name": "darrowpoc"
  },
  "language_info": {
   "codemirror_mode": {
    "name": "ipython",
    "version": 3
   },
   "file_extension": ".py",
   "mimetype": "text/x-python",
   "name": "python",
   "nbconvert_exporter": "python",
   "pygments_lexer": "ipython3",
   "version": "3.10.13"
  }
 },
 "nbformat": 4,
 "nbformat_minor": 0
}
