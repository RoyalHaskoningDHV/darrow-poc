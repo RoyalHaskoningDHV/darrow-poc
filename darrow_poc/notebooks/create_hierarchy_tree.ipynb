{
 "cells": [
  {
   "cell_type": "code",
   "execution_count": 1,
   "metadata": {
    "collapsed": false
   },
   "outputs": [],
   "source": [
    "import pickle"
   ]
  },
  {
   "cell_type": "code",
   "execution_count": 2,
   "metadata": {
    "collapsed": false
   },
   "outputs": [],
   "source": [
    "import pandas as pd\n",
    "\n",
    "data = pd.read_parquet(\"/mnt/c/tmp_data/darrow/data.parquet\")"
   ]
  },
  {
   "cell_type": "code",
   "execution_count": 3,
   "metadata": {
    "collapsed": false
   },
   "outputs": [],
   "source": [
    "from twinn_ml_interface.objectmodels import (\n",
    "    Node,\n",
    "    Unit,\n",
    ")"
   ]
  },
  {
   "cell_type": "code",
   "execution_count": 4,
   "metadata": {
    "collapsed": true
   },
   "outputs": [],
   "source": [
    "discharge_stations = [\n",
    "    'altenburg1', 'eschweiler',\n",
    "    'herzogenrath1', 'herzogenrath2',\n",
    "    'juelich', 'kirchberg1',\n",
    "    'kornelimuenster', 'linnich1',\n",
    "    'obermaubach', 'randerath', 'stahroer',\n",
    "    'stahworm', 'zerkall1'\n",
    "]"
   ]
  },
  {
   "cell_type": "code",
   "execution_count": 5,
   "metadata": {
    "collapsed": true
   },
   "outputs": [],
   "source": [
    "precip_areas = [\n",
    "    'benedenroer',\n",
    "    'bovenroer', 'bruinkool', 'inde', 'kall',\n",
    "    'merzbeek', 'middenroer', 'urft', 'worm',\n",
    "]"
   ]
  },
  {
   "cell_type": "code",
   "execution_count": 7,
   "metadata": {
    "collapsed": false
   },
   "outputs": [
    {
     "data": {
      "text/plain": [
       "Node(val=Unit(unit_code='WL', unit_type_code='TENANT', active=True, name=None, unit_type_name=None, geometry=None, properties=None, metadata=None), parent=None, children=[Node(val=Unit(unit_code='RUHR', unit_type_code='RIVER', active=True, name=None, unit_type_name=None, geometry=None, properties=None, metadata=None), parent=..., children=None)])"
      ]
     },
     "execution_count": 7,
     "metadata": {},
     "output_type": "execute_result"
    }
   ],
   "source": [
    "tenant_node = None\n",
    "\n",
    "child_tenant_node = Node(\n",
    "    val=Unit(\n",
    "        unit_code=\"RUHR\",\n",
    "        unit_type_code=\"RIVER\",\n",
    "        active=True,\n",
    "        geometry=None,\n",
    "    ),\n",
    "    parent=tenant_node,\n",
    "    children=None,\n",
    ")\n",
    "\n",
    "tenant_node = Node(\n",
    "    val=Unit(\n",
    "        unit_code=\"WL\",\n",
    "        unit_type_code=\"TENANT\",\n",
    "        active=True,\n",
    "    ),\n",
    "    parent=None,\n",
    "    children=[child_tenant_node],\n",
    ")\n",
    "\n",
    "child_tenant_node.parent = tenant_node\n",
    "\n",
    "tenant_node"
   ]
  },
  {
   "cell_type": "code",
   "execution_count": 8,
   "metadata": {
    "collapsed": false
   },
   "outputs": [],
   "source": [
    "child_tenant_node.children = [\n",
    "    Node(\n",
    "        val=Unit(\n",
    "            unit_code=unit_code.upper(),\n",
    "            unit_type_code=\"DISCHARGE_STATION\",\n",
    "            active=True,\n",
    "            geometry=None,\n",
    "        ),\n",
    "        parent=child_tenant_node,\n",
    "        children=None,\n",
    "    )\n",
    "    for unit_code in discharge_stations\n",
    "]"
   ]
  },
  {
   "cell_type": "code",
   "execution_count": 9,
   "metadata": {
    "collapsed": false
   },
   "outputs": [],
   "source": [
    "child_tenant_node.children += [\n",
    "    Node(\n",
    "        val=Unit(\n",
    "            unit_code=unit_code.upper(),\n",
    "            unit_type_code=\"PRECIPITATION_AREA\",\n",
    "            active=True,\n",
    "            geometry=None,\n",
    "        ),\n",
    "        parent=child_tenant_node,\n",
    "        children=None,\n",
    "    )\n",
    "    for unit_code in precip_areas\n",
    "]"
   ]
  },
  {
   "cell_type": "code",
   "execution_count": 10,
   "metadata": {
    "collapsed": false
   },
   "outputs": [],
   "source": [
    "child_tenant_node.children += [\n",
    "    Node(\n",
    "        val=Unit(\n",
    "            unit_code=\"EVAPORATION\",\n",
    "            unit_type_code=\"EVAPORATION_STATION\",\n",
    "            active=True,\n",
    "            geometry=None,\n",
    "        ),\n",
    "        parent=child_tenant_node,\n",
    "        children=None,\n",
    "    )\n",
    "]"
   ]
  },
  {
   "cell_type": "code",
   "execution_count": 11,
   "metadata": {
    "collapsed": false
   },
   "outputs": [
    {
     "data": {
      "text/plain": [
       "True"
      ]
     },
     "execution_count": 11,
     "metadata": {},
     "output_type": "execute_result"
    }
   ],
   "source": [
    "tenant_node.children[0].parent == tenant_node"
   ]
  },
  {
   "cell_type": "code",
   "execution_count": 12,
   "metadata": {
    "collapsed": false
   },
   "outputs": [
    {
     "data": {
      "text/plain": [
       "Node(val=Unit(unit_code='WL', unit_type_code='TENANT', active=True, name=None, unit_type_name=None, geometry=None, properties=None, metadata=None), parent=None, children=[Node(val=Unit(unit_code='RUHR', unit_type_code='RIVER', active=True, name=None, unit_type_name=None, geometry=None, properties=None, metadata=None), parent=..., children=[Node(val=Unit(unit_code='ALTENBURG1', unit_type_code='DISCHARGE_STATION', active=True, name=None, unit_type_name=None, geometry=None, properties=None, metadata=None), parent=..., children=None), Node(val=Unit(unit_code='ESCHWEILER', unit_type_code='DISCHARGE_STATION', active=True, name=None, unit_type_name=None, geometry=None, properties=None, metadata=None), parent=..., children=None), Node(val=Unit(unit_code='HERZOGENRATH1', unit_type_code='DISCHARGE_STATION', active=True, name=None, unit_type_name=None, geometry=None, properties=None, metadata=None), parent=..., children=None), Node(val=Unit(unit_code='HERZOGENRATH2', unit_type_code='DISCHARGE_STATION', active=True, name=None, unit_type_name=None, geometry=None, properties=None, metadata=None), parent=..., children=None), Node(val=Unit(unit_code='JUELICH', unit_type_code='DISCHARGE_STATION', active=True, name=None, unit_type_name=None, geometry=None, properties=None, metadata=None), parent=..., children=None), Node(val=Unit(unit_code='KIRCHBERG1', unit_type_code='DISCHARGE_STATION', active=True, name=None, unit_type_name=None, geometry=None, properties=None, metadata=None), parent=..., children=None), Node(val=Unit(unit_code='KORNELIMUENSTER', unit_type_code='DISCHARGE_STATION', active=True, name=None, unit_type_name=None, geometry=None, properties=None, metadata=None), parent=..., children=None), Node(val=Unit(unit_code='LINNICH1', unit_type_code='DISCHARGE_STATION', active=True, name=None, unit_type_name=None, geometry=None, properties=None, metadata=None), parent=..., children=None), Node(val=Unit(unit_code='OBERMAUBACH', unit_type_code='DISCHARGE_STATION', active=True, name=None, unit_type_name=None, geometry=None, properties=None, metadata=None), parent=..., children=None), Node(val=Unit(unit_code='RANDERATH', unit_type_code='DISCHARGE_STATION', active=True, name=None, unit_type_name=None, geometry=None, properties=None, metadata=None), parent=..., children=None), Node(val=Unit(unit_code='STAHROER', unit_type_code='DISCHARGE_STATION', active=True, name=None, unit_type_name=None, geometry=None, properties=None, metadata=None), parent=..., children=None), Node(val=Unit(unit_code='STAHWORM', unit_type_code='DISCHARGE_STATION', active=True, name=None, unit_type_name=None, geometry=None, properties=None, metadata=None), parent=..., children=None), Node(val=Unit(unit_code='ZERKALL1', unit_type_code='DISCHARGE_STATION', active=True, name=None, unit_type_name=None, geometry=None, properties=None, metadata=None), parent=..., children=None), Node(val=Unit(unit_code='BENEDENROER', unit_type_code='PRECIPITATION_AREA', active=True, name=None, unit_type_name=None, geometry=None, properties=None, metadata=None), parent=..., children=None), Node(val=Unit(unit_code='BOVENROER', unit_type_code='PRECIPITATION_AREA', active=True, name=None, unit_type_name=None, geometry=None, properties=None, metadata=None), parent=..., children=None), Node(val=Unit(unit_code='BRUINKOOL', unit_type_code='PRECIPITATION_AREA', active=True, name=None, unit_type_name=None, geometry=None, properties=None, metadata=None), parent=..., children=None), Node(val=Unit(unit_code='INDE', unit_type_code='PRECIPITATION_AREA', active=True, name=None, unit_type_name=None, geometry=None, properties=None, metadata=None), parent=..., children=None), Node(val=Unit(unit_code='KALL', unit_type_code='PRECIPITATION_AREA', active=True, name=None, unit_type_name=None, geometry=None, properties=None, metadata=None), parent=..., children=None), Node(val=Unit(unit_code='MERZBEEK', unit_type_code='PRECIPITATION_AREA', active=True, name=None, unit_type_name=None, geometry=None, properties=None, metadata=None), parent=..., children=None), Node(val=Unit(unit_code='MIDDENROER', unit_type_code='PRECIPITATION_AREA', active=True, name=None, unit_type_name=None, geometry=None, properties=None, metadata=None), parent=..., children=None), Node(val=Unit(unit_code='URFT', unit_type_code='PRECIPITATION_AREA', active=True, name=None, unit_type_name=None, geometry=None, properties=None, metadata=None), parent=..., children=None), Node(val=Unit(unit_code='WORM', unit_type_code='PRECIPITATION_AREA', active=True, name=None, unit_type_name=None, geometry=None, properties=None, metadata=None), parent=..., children=None), Node(val=Unit(unit_code='EVAPORATION', unit_type_code='EVAPORATION_STATION', active=True, name=None, unit_type_name=None, geometry=None, properties=None, metadata=None), parent=..., children=None)])])"
      ]
     },
     "execution_count": 12,
     "metadata": {},
     "output_type": "execute_result"
    }
   ],
   "source": [
    "tenant_node"
   ]
  },
  {
   "cell_type": "code",
   "execution_count": 13,
   "metadata": {
    "collapsed": true
   },
   "outputs": [],
   "source": [
    "hierarchy = {\n",
    "    '17def674-2d70-4a5f-ad9e-e2eeffe27944': tenant_node\n",
    "}"
   ]
  },
  {
   "cell_type": "code",
   "execution_count": 14,
   "metadata": {
    "collapsed": false,
    "scrolled": true
   },
   "outputs": [
    {
     "data": {
      "text/plain": [
       "{'17def674-2d70-4a5f-ad9e-e2eeffe27944': Node(val=Unit(unit_code='WL', unit_type_code='TENANT', active=True, name=None, unit_type_name=None, geometry=None, properties=None, metadata=None), parent=None, children=[Node(val=Unit(unit_code='RUHR', unit_type_code='RIVER', active=True, name=None, unit_type_name=None, geometry=None, properties=None, metadata=None), parent=..., children=[Node(val=Unit(unit_code='ALTENBURG1', unit_type_code='DISCHARGE_STATION', active=True, name=None, unit_type_name=None, geometry=None, properties=None, metadata=None), parent=..., children=None), Node(val=Unit(unit_code='ESCHWEILER', unit_type_code='DISCHARGE_STATION', active=True, name=None, unit_type_name=None, geometry=None, properties=None, metadata=None), parent=..., children=None), Node(val=Unit(unit_code='HERZOGENRATH1', unit_type_code='DISCHARGE_STATION', active=True, name=None, unit_type_name=None, geometry=None, properties=None, metadata=None), parent=..., children=None), Node(val=Unit(unit_code='HERZOGENRATH2', unit_type_code='DISCHARGE_STATION', active=True, name=None, unit_type_name=None, geometry=None, properties=None, metadata=None), parent=..., children=None), Node(val=Unit(unit_code='JUELICH', unit_type_code='DISCHARGE_STATION', active=True, name=None, unit_type_name=None, geometry=None, properties=None, metadata=None), parent=..., children=None), Node(val=Unit(unit_code='KIRCHBERG1', unit_type_code='DISCHARGE_STATION', active=True, name=None, unit_type_name=None, geometry=None, properties=None, metadata=None), parent=..., children=None), Node(val=Unit(unit_code='KORNELIMUENSTER', unit_type_code='DISCHARGE_STATION', active=True, name=None, unit_type_name=None, geometry=None, properties=None, metadata=None), parent=..., children=None), Node(val=Unit(unit_code='LINNICH1', unit_type_code='DISCHARGE_STATION', active=True, name=None, unit_type_name=None, geometry=None, properties=None, metadata=None), parent=..., children=None), Node(val=Unit(unit_code='OBERMAUBACH', unit_type_code='DISCHARGE_STATION', active=True, name=None, unit_type_name=None, geometry=None, properties=None, metadata=None), parent=..., children=None), Node(val=Unit(unit_code='RANDERATH', unit_type_code='DISCHARGE_STATION', active=True, name=None, unit_type_name=None, geometry=None, properties=None, metadata=None), parent=..., children=None), Node(val=Unit(unit_code='STAHROER', unit_type_code='DISCHARGE_STATION', active=True, name=None, unit_type_name=None, geometry=None, properties=None, metadata=None), parent=..., children=None), Node(val=Unit(unit_code='STAHWORM', unit_type_code='DISCHARGE_STATION', active=True, name=None, unit_type_name=None, geometry=None, properties=None, metadata=None), parent=..., children=None), Node(val=Unit(unit_code='ZERKALL1', unit_type_code='DISCHARGE_STATION', active=True, name=None, unit_type_name=None, geometry=None, properties=None, metadata=None), parent=..., children=None), Node(val=Unit(unit_code='BENEDENROER', unit_type_code='PRECIPITATION_AREA', active=True, name=None, unit_type_name=None, geometry=None, properties=None, metadata=None), parent=..., children=None), Node(val=Unit(unit_code='BOVENROER', unit_type_code='PRECIPITATION_AREA', active=True, name=None, unit_type_name=None, geometry=None, properties=None, metadata=None), parent=..., children=None), Node(val=Unit(unit_code='BRUINKOOL', unit_type_code='PRECIPITATION_AREA', active=True, name=None, unit_type_name=None, geometry=None, properties=None, metadata=None), parent=..., children=None), Node(val=Unit(unit_code='INDE', unit_type_code='PRECIPITATION_AREA', active=True, name=None, unit_type_name=None, geometry=None, properties=None, metadata=None), parent=..., children=None), Node(val=Unit(unit_code='KALL', unit_type_code='PRECIPITATION_AREA', active=True, name=None, unit_type_name=None, geometry=None, properties=None, metadata=None), parent=..., children=None), Node(val=Unit(unit_code='MERZBEEK', unit_type_code='PRECIPITATION_AREA', active=True, name=None, unit_type_name=None, geometry=None, properties=None, metadata=None), parent=..., children=None), Node(val=Unit(unit_code='MIDDENROER', unit_type_code='PRECIPITATION_AREA', active=True, name=None, unit_type_name=None, geometry=None, properties=None, metadata=None), parent=..., children=None), Node(val=Unit(unit_code='URFT', unit_type_code='PRECIPITATION_AREA', active=True, name=None, unit_type_name=None, geometry=None, properties=None, metadata=None), parent=..., children=None), Node(val=Unit(unit_code='WORM', unit_type_code='PRECIPITATION_AREA', active=True, name=None, unit_type_name=None, geometry=None, properties=None, metadata=None), parent=..., children=None), Node(val=Unit(unit_code='EVAPORATION', unit_type_code='EVAPORATION_STATION', active=True, name=None, unit_type_name=None, geometry=None, properties=None, metadata=None), parent=..., children=None)])])}"
      ]
     },
     "execution_count": 14,
     "metadata": {},
     "output_type": "execute_result"
    }
   ],
   "source": [
    "hierarchy"
   ]
  },
  {
   "cell_type": "code",
   "execution_count": 15,
   "metadata": {
    "collapsed": true
   },
   "outputs": [],
   "source": [
    "with open(\"/mnt/c/tmp_data/darrow/hierarchy.pkl\", \"wb\") as f:\n",
    "    pickle.dump(hierarchy, f)"
   ]
  },
  {
   "cell_type": "code",
   "execution_count": 16,
   "metadata": {
    "collapsed": false
   },
   "outputs": [
    {
     "data": {
      "text/plain": [
       "{'17def674-2d70-4a5f-ad9e-e2eeffe27944': Node(val=Unit(unit_code='WL', unit_type_code='TENANT', active=True, name=None, unit_type_name=None, geometry=None, properties=None, metadata=None), parent=None, children=[Node(val=Unit(unit_code='RUHR', unit_type_code='RIVER', active=True, name=None, unit_type_name=None, geometry=None, properties=None, metadata=None), parent=..., children=[Node(val=Unit(unit_code='ALTENBURG1', unit_type_code='DISCHARGE_STATION', active=True, name=None, unit_type_name=None, geometry=None, properties=None, metadata=None), parent=..., children=None), Node(val=Unit(unit_code='ESCHWEILER', unit_type_code='DISCHARGE_STATION', active=True, name=None, unit_type_name=None, geometry=None, properties=None, metadata=None), parent=..., children=None), Node(val=Unit(unit_code='HERZOGENRATH1', unit_type_code='DISCHARGE_STATION', active=True, name=None, unit_type_name=None, geometry=None, properties=None, metadata=None), parent=..., children=None), Node(val=Unit(unit_code='HERZOGENRATH2', unit_type_code='DISCHARGE_STATION', active=True, name=None, unit_type_name=None, geometry=None, properties=None, metadata=None), parent=..., children=None), Node(val=Unit(unit_code='JUELICH', unit_type_code='DISCHARGE_STATION', active=True, name=None, unit_type_name=None, geometry=None, properties=None, metadata=None), parent=..., children=None), Node(val=Unit(unit_code='KIRCHBERG1', unit_type_code='DISCHARGE_STATION', active=True, name=None, unit_type_name=None, geometry=None, properties=None, metadata=None), parent=..., children=None), Node(val=Unit(unit_code='KORNELIMUENSTER', unit_type_code='DISCHARGE_STATION', active=True, name=None, unit_type_name=None, geometry=None, properties=None, metadata=None), parent=..., children=None), Node(val=Unit(unit_code='LINNICH1', unit_type_code='DISCHARGE_STATION', active=True, name=None, unit_type_name=None, geometry=None, properties=None, metadata=None), parent=..., children=None), Node(val=Unit(unit_code='OBERMAUBACH', unit_type_code='DISCHARGE_STATION', active=True, name=None, unit_type_name=None, geometry=None, properties=None, metadata=None), parent=..., children=None), Node(val=Unit(unit_code='RANDERATH', unit_type_code='DISCHARGE_STATION', active=True, name=None, unit_type_name=None, geometry=None, properties=None, metadata=None), parent=..., children=None), Node(val=Unit(unit_code='STAHROER', unit_type_code='DISCHARGE_STATION', active=True, name=None, unit_type_name=None, geometry=None, properties=None, metadata=None), parent=..., children=None), Node(val=Unit(unit_code='STAHWORM', unit_type_code='DISCHARGE_STATION', active=True, name=None, unit_type_name=None, geometry=None, properties=None, metadata=None), parent=..., children=None), Node(val=Unit(unit_code='ZERKALL1', unit_type_code='DISCHARGE_STATION', active=True, name=None, unit_type_name=None, geometry=None, properties=None, metadata=None), parent=..., children=None), Node(val=Unit(unit_code='BENEDENROER', unit_type_code='PRECIPITATION_AREA', active=True, name=None, unit_type_name=None, geometry=None, properties=None, metadata=None), parent=..., children=None), Node(val=Unit(unit_code='BOVENROER', unit_type_code='PRECIPITATION_AREA', active=True, name=None, unit_type_name=None, geometry=None, properties=None, metadata=None), parent=..., children=None), Node(val=Unit(unit_code='BRUINKOOL', unit_type_code='PRECIPITATION_AREA', active=True, name=None, unit_type_name=None, geometry=None, properties=None, metadata=None), parent=..., children=None), Node(val=Unit(unit_code='INDE', unit_type_code='PRECIPITATION_AREA', active=True, name=None, unit_type_name=None, geometry=None, properties=None, metadata=None), parent=..., children=None), Node(val=Unit(unit_code='KALL', unit_type_code='PRECIPITATION_AREA', active=True, name=None, unit_type_name=None, geometry=None, properties=None, metadata=None), parent=..., children=None), Node(val=Unit(unit_code='MERZBEEK', unit_type_code='PRECIPITATION_AREA', active=True, name=None, unit_type_name=None, geometry=None, properties=None, metadata=None), parent=..., children=None), Node(val=Unit(unit_code='MIDDENROER', unit_type_code='PRECIPITATION_AREA', active=True, name=None, unit_type_name=None, geometry=None, properties=None, metadata=None), parent=..., children=None), Node(val=Unit(unit_code='URFT', unit_type_code='PRECIPITATION_AREA', active=True, name=None, unit_type_name=None, geometry=None, properties=None, metadata=None), parent=..., children=None), Node(val=Unit(unit_code='WORM', unit_type_code='PRECIPITATION_AREA', active=True, name=None, unit_type_name=None, geometry=None, properties=None, metadata=None), parent=..., children=None), Node(val=Unit(unit_code='EVAPORATION', unit_type_code='EVAPORATION_STATION', active=True, name=None, unit_type_name=None, geometry=None, properties=None, metadata=None), parent=..., children=None)])])}"
      ]
     },
     "execution_count": 16,
     "metadata": {},
     "output_type": "execute_result"
    }
   ],
   "source": [
    "with open(\"/mnt/c/tmp_data/darrow/hierarchy.pkl\", \"rb\") as f:\n",
    "    test = pickle.load(f)\n",
    "    \n",
    "test"
   ]
  },
  {
   "cell_type": "code",
   "execution_count": null,
   "metadata": {
    "collapsed": true
   },
   "outputs": [],
   "source": []
  }
 ],
 "metadata": {
  "kernelspec": {
   "display_name": "Python (twinn-ml-poc)",
   "language": "python",
   "name": "twinn-ml-poc"
  },
  "language_info": {
   "codemirror_mode": {
    "name": "ipython",
    "version": 3
   },
   "file_extension": ".py",
   "mimetype": "text/x-python",
   "name": "python",
   "nbconvert_exporter": "python",
   "pygments_lexer": "ipython3",
   "version": "3.10.13"
  }
 },
 "nbformat": 4,
 "nbformat_minor": 0
}
